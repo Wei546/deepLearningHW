{
 "cells": [
  {
   "cell_type": "code",
   "execution_count": 31,
   "metadata": {},
   "outputs": [
    {
     "name": "stdout",
     "output_type": "stream",
     "text": [
      "-------pre-process data start-------\n",
      "訓練集筆數: 60000\n",
      "測試集筆數: 10000\n",
      "train_dataset[0] - 影像張量形狀: torch.Size([1, 28, 28])\n",
      "train_dataset[0] - 標籤: 9\n",
      "批次影像張量形狀: torch.Size([64, 1, 28, 28])\n",
      "批次標籤: tensor([5, 4, 0, 7, 0, 3, 3, 9, 9, 1])\n",
      "測試集 - 批次影像張量形狀: torch.Size([64, 1, 28, 28])\n",
      "測試集 - 批次標籤: tensor([9, 2, 1, 1, 6, 1, 4, 6, 5, 7])\n"
     ]
    },
    {
     "data": {
      "image/png": "[encoded data removed]",
      "text/plain": [
       "<Figure size 640x480 with 1 Axes>"
      ]
     },
     "metadata": {},
     "output_type": "display_data"
    },
    {
     "name": "stdout",
     "output_type": "stream",
     "text": [
      "-------pre-process data end-------\n"
     ]
    }
   ],
   "source": [
    "import torch\n",
    "import torch.nn as nn\n",
    "import torch.optim as optim\n",
    "import torchvision\n",
    "import torchvision.transforms as transforms\n",
    "from torch.utils.data import DataLoader\n",
    "import matplotlib.pyplot as plt\n",
    "import numpy as np\n",
    "\n",
    "\n",
    "print(\"-------pre-process data start-------\")\n",
    "\n",
    "# 1. 定義資料轉換以及資料擴增\n",
    "train_transform = transforms.Compose([\n",
    "    transforms.RandomRotation(10),\n",
    "    transforms.RandomHorizontalFlip(p=0.5),\n",
    "    transforms.ToTensor(),\n",
    "    transforms.Normalize((0.1307,), (0.3081,))\n",
    "])\n",
    "\n",
    "test_transform = transforms.Compose([\n",
    "    transforms.ToTensor(),\n",
    "    transforms.Normalize((0.1307,), (0.3081,))\n",
    "])\n",
    "\n",
    "# 2. 載入資料集\n",
    "train_dataset = torchvision.datasets.FashionMNIST(\n",
    "    root='./data', \n",
    "    train=True, \n",
    "    download=True, \n",
    "    transform=train_transform\n",
    ")\n",
    "test_dataset = torchvision.datasets.FashionMNIST(\n",
    "    root='./data', \n",
    "    train=False, \n",
    "    download=True, \n",
    "    transform=test_transform\n",
    ")\n",
    "\n",
    "# 3. 建立 DataLoader\n",
    "batch_size = 64\n",
    "train_loader = DataLoader(train_dataset, batch_size=batch_size, shuffle=True)\n",
    "test_loader = DataLoader(test_dataset, batch_size=batch_size, shuffle=False)\n",
    "\n",
    "# 印出 train_dataset 與 test_dataset 的大小\n",
    "print(f\"訓練集筆數: {len(train_dataset)}\")\n",
    "print(f\"測試集筆數: {len(test_dataset)}\")\n",
    "\n",
    "# 打印train_dataset[0]、reain_loader[0]的tensor 形狀及 label\n",
    "image0, label0 = train_dataset[0]\n",
    "print(\"train_dataset[0] - 影像張量形狀:\", image0.shape)\n",
    "print(\"train_dataset[0] - 標籤:\", label0)\n",
    "\n",
    "data_iter = iter(train_loader)\n",
    "images, labels = next(data_iter)\n",
    "print(\"批次影像張量形狀:\", images.shape)   \n",
    "print(\"批次標籤:\", labels[:10])  \n",
    "\n",
    "test_data_iter = iter(test_loader)\n",
    "test_images, test_labels = next(test_data_iter)\n",
    "print(\"測試集 - 批次影像張量形狀:\", test_images.shape)\n",
    "print(\"測試集 - 批次標籤:\", test_labels[:10])\n",
    "\n",
    "# 顯示一張圖片\n",
    "plt.imshow(images[0].squeeze().numpy(), cmap='gray')\n",
    "plt.title(f\"Label: {labels[0].item()}\")\n",
    "plt.show()\n",
    "print(\"-------pre-process data end-------\")"
   ]
  },
  {
   "cell_type": "code",
   "execution_count": 32,
   "metadata": {},
   "outputs": [
    {
     "name": "stdout",
     "output_type": "stream",
     "text": [
      "-------CNN model start-------\n",
      "最終輸出 output 的維度: torch.Size([4, 10])\n",
      "最終輸出 output 的資料型態: torch.float32\n",
      "-------CNN model end-------\n"
     ]
    }
   ],
   "source": [
    "import torch\n",
    "import torch.nn as nn\n",
    "import torch.nn.functional as F\n",
    "\n",
    "class CNN(nn.Module):\n",
    "    def __init__(self):\n",
    "        super(CNN, self).__init__()\n",
    "\n",
    "        # 第1層卷積： kernel_size=5, 輸出通道=32\n",
    "        self.conv1 = nn.Conv2d(1, 32, kernel_size=5, padding=2)\n",
    "        self.bn1 = nn.BatchNorm2d(32)  # Batch Normalization\n",
    "\n",
    "        # 第2層卷積： kernel_size=3, 輸出通道=64\n",
    "        self.conv2 = nn.Conv2d(32, 64, kernel_size=3, padding=1)\n",
    "        self.bn2 = nn.BatchNorm2d(64)  # Batch Normalization\n",
    "\n",
    "        # 第3層卷積： kernel_size=3, 輸出通道=128\n",
    "        self.conv3 = nn.Conv2d(64, 128, kernel_size=3, padding=1)\n",
    "        self.bn3 = nn.BatchNorm2d(128)  # Batch Normalization\n",
    "\n",
    "        # 最大池化層\n",
    "        self.pool = nn.MaxPool2d(kernel_size=2, stride=2)\n",
    "\n",
    "        # Dropout (卷積後)\n",
    "        self.dropout_conv = nn.Dropout(p=0.3)  # p=0.3\n",
    "\n",
    "        # 全連接層\n",
    "        self.fc1 = nn.Linear(128 * 3 * 3, 256)\n",
    "        self.dropout_fc = nn.Dropout(p=0.4)    # p=0.4\n",
    "        self.fc2 = nn.Linear(256, 10)\n",
    "\n",
    "        # 改用 LeakyReLU，並可自訂負向斜率\n",
    "        self.leaky_relu = nn.LeakyReLU(negative_slope=0.01)\n",
    "\n",
    "    def forward(self, x):\n",
    "        # 第1層卷積 + BN + LeakyReLU + Pool\n",
    "        x = self.conv1(x)\n",
    "        x = self.bn1(x)\n",
    "        x = self.leaky_relu(x)\n",
    "        x = self.pool(x)\n",
    "\n",
    "        # 第2層卷積 + BN + LeakyReLU + Pool\n",
    "        x = self.conv2(x)\n",
    "        x = self.bn2(x)\n",
    "        x = self.leaky_relu(x)\n",
    "        x = self.pool(x)\n",
    "\n",
    "        # 第3層卷積 + BN + LeakyReLU + Pool\n",
    "        x = self.conv3(x)\n",
    "        x = self.bn3(x)\n",
    "        x = self.leaky_relu(x)\n",
    "        x = self.pool(x)\n",
    "\n",
    "        # Dropout (卷積後)\n",
    "        x = self.dropout_conv(x)\n",
    "\n",
    "        # Flatten\n",
    "        x = x.view(-1, 128 * 3 * 3)\n",
    "\n",
    "        # 全連接層 + Dropout\n",
    "        x = self.fc1(x)\n",
    "        x = self.leaky_relu(x)\n",
    "        x = self.dropout_fc(x)\n",
    "\n",
    "        # 輸出層\n",
    "        x = self.fc2(x)\n",
    "        return x\n",
    "\n",
    "\n",
    "\n",
    "if __name__ == \"__main__\":\n",
    "    print(\"-------CNN model start-------\")\n",
    "    # 建立一個 CNN 模型\n",
    "    model = CNN()\n",
    "\n",
    "    # 模擬一批影像 (batch_size=4, 單通道, 28x28)\n",
    "    sample_input = torch.randn(4, 1, 28, 28)\n",
    "\n",
    "    # 將 sample_input 丟進模型，觸發 forward() 並列印資訊\n",
    "    output = model(sample_input)\n",
    "    print(\"最終輸出 output 的維度:\", output.shape)\n",
    "    print(\"最終輸出 output 的資料型態:\", output.dtype)\n",
    "    print(\"-------CNN model end-------\")\n"
   ]
  },
  {
   "cell_type": "code",
   "execution_count": 33,
   "metadata": {},
   "outputs": [
    {
     "name": "stdout",
     "output_type": "stream",
     "text": [
      "-------device start-------\n",
      "偵測到 GPU，可使用 CUDA 加速運算。\n",
      "\n",
      "--- 模型資訊 ---\n",
      "模型的資料型態: torch.float32\n",
      "模型結構如下：\n",
      "CNN(\n",
      "  (conv1): Conv2d(1, 32, kernel_size=(5, 5), stride=(1, 1), padding=(2, 2))\n",
      "  (bn1): BatchNorm2d(32, eps=1e-05, momentum=0.1, affine=True, track_running_stats=True)\n",
      "  (conv2): Conv2d(32, 64, kernel_size=(3, 3), stride=(1, 1), padding=(1, 1))\n",
      "  (bn2): BatchNorm2d(64, eps=1e-05, momentum=0.1, affine=True, track_running_stats=True)\n",
      "  (conv3): Conv2d(64, 128, kernel_size=(3, 3), stride=(1, 1), padding=(1, 1))\n",
      "  (bn3): BatchNorm2d(128, eps=1e-05, momentum=0.1, affine=True, track_running_stats=True)\n",
      "  (pool): MaxPool2d(kernel_size=2, stride=2, padding=0, dilation=1, ceil_mode=False)\n",
      "  (dropout_conv): Dropout(p=0.3, inplace=False)\n",
      "  (fc1): Linear(in_features=1152, out_features=256, bias=True)\n",
      "  (dropout_fc): Dropout(p=0.4, inplace=False)\n",
      "  (fc2): Linear(in_features=256, out_features=10, bias=True)\n",
      "  (leaky_relu): LeakyReLU(negative_slope=0.01)\n",
      ")\n",
      "\n",
      "--- 損失函式資訊 ---\n",
      "使用的損失函式: CrossEntropyLoss()\n",
      "\n",
      "--- 優化器資訊 ---\n",
      "使用的優化器: AdamW (\n",
      "Parameter Group 0\n",
      "    amsgrad: False\n",
      "    betas: (0.9, 0.999)\n",
      "    capturable: False\n",
      "    differentiable: False\n",
      "    eps: 1e-08\n",
      "    foreach: None\n",
      "    fused: None\n",
      "    lr: 0.0005\n",
      "    maximize: False\n",
      "    weight_decay: 0.0001\n",
      ")\n",
      "優化器內部的設定參數: {'lr': 0.0005, 'betas': (0.9, 0.999), 'eps': 1e-08, 'weight_decay': 0.0001, 'amsgrad': False, 'foreach': None, 'maximize': False, 'capturable': False, 'differentiable': False, 'fused': None}\n",
      "此參數組的學習率 (lr): 0.0005\n",
      "-------device end-------\n"
     ]
    }
   ],
   "source": [
    "import torch\n",
    "import torch.nn as nn\n",
    "import torch.optim as optim\n",
    "\n",
    "\n",
    "# --------------------------\n",
    "# 1. 檢查並設定GPU運算\n",
    "# --------------------------\n",
    "print(\"-------device start-------\")\n",
    "device = torch.device('cuda' if torch.cuda.is_available() else 'cpu')\n",
    "if device.type == 'cuda':\n",
    "    print(\"偵測到 GPU，可使用 CUDA 加速運算。\")\n",
    "else:\n",
    "    print(\"未偵測到 GPU，使用 CPU 進行運算。\")\n",
    "\n",
    "# --------------------------\n",
    "# 2. 建立並移動模型到GPU\n",
    "# --------------------------\n",
    "model = CNN().to(device)\n",
    "print(\"\\n--- 模型資訊 ---\")\n",
    "print(\"模型的資料型態:\", next(model.parameters()).dtype)  # 取得模型內任一參數並查看資料型態\n",
    "print(\"模型結構如下：\")\n",
    "print(model)\n",
    "\n",
    "# --------------------------\n",
    "# 3. 定義損失函式\n",
    "# --------------------------\n",
    "criterion = nn.CrossEntropyLoss()\n",
    "print(\"\\n--- 損失函式資訊 ---\")\n",
    "print(\"使用的損失函式:\", criterion)\n",
    "\n",
    "# --------------------------\n",
    "# 4. 定義優化器\n",
    "# --------------------------\n",
    "optimizer = optim.AdamW(model.parameters(), lr=0.0005, weight_decay=1e-4)\n",
    "print(\"\\n--- 優化器資訊 ---\")\n",
    "print(\"使用的優化器:\", optimizer)\n",
    "print(\"優化器內部的設定參數:\", optimizer.defaults)\n",
    "\n",
    "# 學習率排程：每 5 個 epoch LR * 0.1\n",
    "scheduler = optim.lr_scheduler.StepLR(optimizer, step_size=1, gamma=0.9)\n",
    "\n",
    "for param_group in optimizer.param_groups:\n",
    "    print(\"此參數組的學習率 (lr):\", param_group['lr'])\n",
    "    break\n",
    "print(\"-------device end-------\")\n"
   ]
  },
  {
   "cell_type": "code",
   "execution_count": 34,
   "metadata": {},
   "outputs": [
    {
     "name": "stderr",
     "output_type": "stream",
     "text": [
      "Epoch 1/15: 100%|██████████| 938/938 [00:13<00:00, 71.81it/s]\n"
     ]
    },
    {
     "name": "stdout",
     "output_type": "stream",
     "text": [
      "Epoch [1/15] Train Loss: 1.3138, Train Acc: 68.98%, Test Loss: 1.1704, Test Acc: 69.96%\n"
     ]
    },
    {
     "name": "stderr",
     "output_type": "stream",
     "text": [
      "Epoch 2/15: 100%|██████████| 938/938 [00:13<00:00, 71.03it/s]\n"
     ]
    },
    {
     "name": "stdout",
     "output_type": "stream",
     "text": [
      "Epoch [2/15] Train Loss: 1.3025, Train Acc: 68.74%, Test Loss: 1.1767, Test Acc: 69.90%\n"
     ]
    },
    {
     "name": "stderr",
     "output_type": "stream",
     "text": [
      "Epoch 3/15: 100%|██████████| 938/938 [00:13<00:00, 68.90it/s]\n"
     ]
    },
    {
     "name": "stdout",
     "output_type": "stream",
     "text": [
      "Epoch [3/15] Train Loss: 1.3040, Train Acc: 69.02%, Test Loss: 1.1684, Test Acc: 69.95%\n"
     ]
    },
    {
     "name": "stderr",
     "output_type": "stream",
     "text": [
      "Epoch 4/15: 100%|██████████| 938/938 [00:12<00:00, 76.24it/s]\n"
     ]
    },
    {
     "name": "stdout",
     "output_type": "stream",
     "text": [
      "Epoch [4/15] Train Loss: 1.3014, Train Acc: 69.09%, Test Loss: 1.1673, Test Acc: 69.96%\n"
     ]
    },
    {
     "name": "stderr",
     "output_type": "stream",
     "text": [
      "Epoch 5/15: 100%|██████████| 938/938 [00:34<00:00, 27.53it/s]\n"
     ]
    },
    {
     "name": "stdout",
     "output_type": "stream",
     "text": [
      "Epoch [5/15] Train Loss: 1.3031, Train Acc: 68.89%, Test Loss: 1.1778, Test Acc: 69.97%\n"
     ]
    },
    {
     "name": "stderr",
     "output_type": "stream",
     "text": [
      "Epoch 6/15: 100%|██████████| 938/938 [00:24<00:00, 38.36it/s]\n"
     ]
    },
    {
     "name": "stdout",
     "output_type": "stream",
     "text": [
      "Epoch [6/15] Train Loss: 1.3026, Train Acc: 68.75%, Test Loss: 1.1789, Test Acc: 69.96%\n"
     ]
    },
    {
     "name": "stderr",
     "output_type": "stream",
     "text": [
      "Epoch 7/15: 100%|██████████| 938/938 [00:13<00:00, 70.22it/s]\n"
     ]
    },
    {
     "name": "stdout",
     "output_type": "stream",
     "text": [
      "Epoch [7/15] Train Loss: 1.3047, Train Acc: 68.86%, Test Loss: 1.1761, Test Acc: 69.97%\n"
     ]
    },
    {
     "name": "stderr",
     "output_type": "stream",
     "text": [
      "Epoch 8/15: 100%|██████████| 938/938 [00:12<00:00, 72.22it/s]\n"
     ]
    },
    {
     "name": "stdout",
     "output_type": "stream",
     "text": [
      "Epoch [8/15] Train Loss: 1.3045, Train Acc: 68.90%, Test Loss: 1.1720, Test Acc: 69.90%\n"
     ]
    },
    {
     "name": "stderr",
     "output_type": "stream",
     "text": [
      "Epoch 9/15: 100%|██████████| 938/938 [00:13<00:00, 69.73it/s]\n"
     ]
    },
    {
     "name": "stdout",
     "output_type": "stream",
     "text": [
      "Epoch [9/15] Train Loss: 1.3076, Train Acc: 68.89%, Test Loss: 1.1728, Test Acc: 69.90%\n"
     ]
    },
    {
     "name": "stderr",
     "output_type": "stream",
     "text": [
      "Epoch 10/15: 100%|██████████| 938/938 [00:19<00:00, 49.05it/s]\n"
     ]
    },
    {
     "name": "stdout",
     "output_type": "stream",
     "text": [
      "Epoch [10/15] Train Loss: 1.3028, Train Acc: 68.91%, Test Loss: 1.1672, Test Acc: 69.98%\n"
     ]
    },
    {
     "name": "stderr",
     "output_type": "stream",
     "text": [
      "Epoch 11/15: 100%|██████████| 938/938 [00:29<00:00, 32.28it/s]\n"
     ]
    },
    {
     "name": "stdout",
     "output_type": "stream",
     "text": [
      "Epoch [11/15] Train Loss: 1.3040, Train Acc: 68.89%, Test Loss: 1.1747, Test Acc: 69.96%\n"
     ]
    },
    {
     "name": "stderr",
     "output_type": "stream",
     "text": [
      "Epoch 12/15: 100%|██████████| 938/938 [00:16<00:00, 58.37it/s]\n"
     ]
    },
    {
     "name": "stdout",
     "output_type": "stream",
     "text": [
      "Epoch [12/15] Train Loss: 1.3065, Train Acc: 68.89%, Test Loss: 1.1751, Test Acc: 69.93%\n"
     ]
    },
    {
     "name": "stderr",
     "output_type": "stream",
     "text": [
      "Epoch 13/15: 100%|██████████| 938/938 [00:12<00:00, 75.23it/s]\n"
     ]
    },
    {
     "name": "stdout",
     "output_type": "stream",
     "text": [
      "Epoch [13/15] Train Loss: 1.3020, Train Acc: 68.58%, Test Loss: 1.1780, Test Acc: 69.95%\n"
     ]
    },
    {
     "name": "stderr",
     "output_type": "stream",
     "text": [
      "Epoch 14/15: 100%|██████████| 938/938 [00:22<00:00, 40.84it/s]\n"
     ]
    },
    {
     "name": "stdout",
     "output_type": "stream",
     "text": [
      "Epoch [14/15] Train Loss: 1.3020, Train Acc: 68.99%, Test Loss: 1.1709, Test Acc: 69.96%\n"
     ]
    },
    {
     "name": "stderr",
     "output_type": "stream",
     "text": [
      "Epoch 15/15: 100%|██████████| 938/938 [00:34<00:00, 27.45it/s]\n"
     ]
    },
    {
     "name": "stdout",
     "output_type": "stream",
     "text": [
      "Epoch [15/15] Train Loss: 1.3036, Train Acc: 68.73%, Test Loss: 1.1738, Test Acc: 69.91%\n",
      "\n",
      "----- Final Evaluation on Test Set -----\n",
      "Test Accuracy: 69.91%\n",
      "Test Loss: 1.1738\n"
     ]
    },
    {
     "data": {
      "image/png": "[encoded data removed]",
      "text/plain": [
       "<Figure size 1200x500 with 2 Axes>"
      ]
     },
     "metadata": {},
     "output_type": "display_data"
    }
   ],
   "source": [
    "import torch\n",
    "import torch.nn as nn\n",
    "import torch.optim as optim\n",
    "import torchvision\n",
    "import torchvision.transforms as transforms\n",
    "from torch.utils.data import DataLoader\n",
    "import matplotlib.pyplot as plt\n",
    "import numpy as np\n",
    "from tqdm import tqdm\n",
    "from torch.nn import functional as F\n",
    "\n",
    "# --------------------------------------------------\n",
    "# 函數：計算 Accuracy\n",
    "# --------------------------------------------------\n",
    "def calculate_accuracy(model, data_loader, device):\n",
    "    model.eval()  # 設置模型為推論模式\n",
    "    correct = 0\n",
    "    total = 0\n",
    "    with torch.no_grad():  # 推論時不需要梯度\n",
    "        for images, labels in data_loader:\n",
    "            images, labels = images.to(device), labels.to(device)\n",
    "            outputs = model(images)\n",
    "            _, predicted = torch.max(outputs.data, 1)\n",
    "            total += labels.size(0)\n",
    "            correct += (predicted == labels).sum().item()\n",
    "\n",
    "    accuracy = 100.0 * correct / total\n",
    "    return accuracy\n",
    "\n",
    "# --------------------------------------------------\n",
    "# 函數：計算 Loss\n",
    "# --------------------------------------------------\n",
    "def calculate_loss(model, data_loader, criterion, device):\n",
    "    model.eval()  # 設置模型為推論模式\n",
    "    total_loss = 0.0\n",
    "    with torch.no_grad():\n",
    "        for images, labels in data_loader:\n",
    "            images, labels = images.to(device), labels.to(device)\n",
    "            outputs = model(images)\n",
    "            loss = criterion(outputs, labels)\n",
    "            total_loss += loss.item()\n",
    "\n",
    "    average_loss = total_loss / len(data_loader)\n",
    "    return average_loss\n",
    "\n",
    "\n",
    "num_epochs = 15\n",
    "\n",
    "# 創建四個 list 來儲存不同階段的 loss 與 accuracy\n",
    "train_losses = []\n",
    "test_losses = []\n",
    "train_accuracies = []\n",
    "test_accuracies = []\n",
    "\n",
    "for epoch in range(num_epochs):\n",
    "    # ------------------------\n",
    "    # (1) 模型訓練階段\n",
    "    # ------------------------\n",
    "    model.train()  # 設置模型為訓練模式\n",
    "    running_loss = 0.0\n",
    "    \n",
    "    for images, labels in tqdm(train_loader, desc=f\"Epoch {epoch+1}/{num_epochs}\"):\n",
    "        images, labels = images.to(device), labels.to(device)\n",
    "\n",
    "        optimizer.zero_grad()           # 清空梯度\n",
    "        outputs = model(images)         # 前向傳播\n",
    "        loss = criterion(outputs, labels)\n",
    "        loss.backward()                 # 反向傳播\n",
    "        optimizer.step()                # 更新參數\n",
    "\n",
    "        running_loss += loss.item()\n",
    "        scheduler.step()  # 更新學習率\n",
    "\n",
    "    # 計算單個 epoch 的平均 loss\n",
    "    epoch_train_loss = running_loss / len(train_loader)\n",
    "\n",
    "    # ------------------------\n",
    "    # (2) 訓練集、測試集上做評估\n",
    "    # ------------------------\n",
    "    epoch_train_acc = calculate_accuracy(model, train_loader, device)\n",
    "    epoch_test_acc = calculate_accuracy(model, test_loader, device)\n",
    "    epoch_test_loss = calculate_loss(model, test_loader, criterion, device)\n",
    "\n",
    "    # ------------------------\n",
    "    # (3) 紀錄當前 epoch 的結果\n",
    "    # ------------------------\n",
    "    train_losses.append(epoch_train_loss)\n",
    "    test_losses.append(epoch_test_loss)\n",
    "    train_accuracies.append(epoch_train_acc)\n",
    "    test_accuracies.append(epoch_test_acc)\n",
    "\n",
    "    # ------------------------\n",
    "    # (4) 印出當前 epoch 的訓練指標\n",
    "    # ------------------------\n",
    "    print(f\"Epoch [{epoch+1}/{num_epochs}] \"\n",
    "          f\"Train Loss: {epoch_train_loss:.4f}, \"\n",
    "          f\"Train Acc: {epoch_train_acc:.2f}%, \"\n",
    "          f\"Test Loss: {epoch_test_loss:.4f}, \"\n",
    "          f\"Test Acc: {epoch_test_acc:.2f}%\")\n",
    "\n",
    "\n",
    "# --------------------------------------------------\n",
    "# (5) 最終訓練結束後，可再列一次最終結果\n",
    "# --------------------------------------------------\n",
    "print(\"\\n----- Final Evaluation on Test Set -----\")\n",
    "final_test_acc = calculate_accuracy(model, test_loader, device)\n",
    "final_test_loss = calculate_loss(model, test_loader, criterion, device)\n",
    "print(f\"Test Accuracy: {final_test_acc:.2f}%\")\n",
    "print(f\"Test Loss: {final_test_loss:.4f}\")\n",
    "\n",
    "# --------------------------------------------------\n",
    "# (6) 視覺化：Loss 和 Accuracy\n",
    "# --------------------------------------------------\n",
    "epochs_range = range(1, num_epochs + 1)\n",
    "\n",
    "# Plot Loss\n",
    "plt.figure(figsize=(12, 5))\n",
    "plt.subplot(1, 2, 1)\n",
    "plt.plot(epochs_range, train_losses, label='Train Loss')\n",
    "plt.plot(epochs_range, test_losses, label='Test Loss')\n",
    "plt.title('Loss over Epochs')\n",
    "plt.xlabel('Epoch')\n",
    "plt.ylabel('Loss')\n",
    "plt.legend()\n",
    "\n",
    "# Plot Accuracy\n",
    "plt.subplot(1, 2, 2)\n",
    "plt.plot(epochs_range, train_accuracies, label='Train Accuracy')\n",
    "plt.plot(epochs_range, test_accuracies, label='Test Accuracy')\n",
    "plt.title('Accuracy over Epochs')\n",
    "plt.xlabel('Epoch')\n",
    "plt.ylabel('Accuracy (%)')\n",
    "plt.legend()\n",
    "\n",
    "plt.tight_layout()\n",
    "plt.show()\n"
   ]
  },
  {
   "cell_type": "code",
   "execution_count": 35,
   "metadata": {},
   "outputs": [
    {
     "name": "stdout",
     "output_type": "stream",
     "text": [
      "\n",
      "--- 測試模型成效 ---\n",
      "批次影像數量: 64\n",
      "顯示前 4 張測試影像，並比對真實標籤與模型預測：\n"
     ]
    },
    {
     "data": {
      "image/png": "[encoded data removed]",
      "text/plain": [
       "<Figure size 1000x600 with 4 Axes>"
      ]
     },
     "metadata": {},
     "output_type": "display_data"
    }
   ],
   "source": [
    "import torch\n",
    "import matplotlib.pyplot as plt\n",
    "import numpy as np\n",
    "from matplotlib.font_manager import FontProperties\n",
    "\n",
    "# 定義 10 個服裝類別的中文名稱\n",
    "class_names = ['T恤', '褲子', '套衫', '洋裝', '外套', \n",
    "               '凉鞋', '襯衫', '運動鞋', '包包', '短靴']\n",
    "\n",
    "def imshow(img):\n",
    "    \"\"\"\n",
    "    功能：將輸入影像 img (Tensor) 反標準化後，以 matplotlib 顯示。\n",
    "    \"\"\"\n",
    "    # 反標準化 (假設 Normalize 使用了 mean=0.5, std=0.5)\n",
    "    img = img / 2 + 0.5\n",
    "    npimg = img.numpy()\n",
    "    # 轉置維度從 [C, H, W] -> [H, W, C]，並顯示灰階圖片\n",
    "    plt.imshow(np.transpose(npimg, (1, 2, 0)), cmap='gray')\n",
    "    plt.show()\n",
    "\n",
    "def visualize_model_predictions(model, test_loader, class_names, device):\n",
    "    \"\"\"\n",
    "    功能：從 test_loader 取出一個批次的測試影像，並顯示模型的預測結果。\n",
    "    \"\"\"\n",
    "\n",
    "    font = FontProperties(fname=\"C:/Windows/Fonts/kaiu.ttf\")\n",
    "\n",
    "    # 切換模型為推論模式\n",
    "    model.eval()\n",
    "\n",
    "    # 從 test_loader 取得一個批次的資料\n",
    "    dataiter = iter(test_loader)\n",
    "    images, labels = next(dataiter)  # 取出 batch\n",
    "    # 將資料及標籤移動到GPU\n",
    "    images, labels = images.to(device), labels.to(device)\n",
    "\n",
    "    # 前向傳播，取得模型輸出\n",
    "    outputs = model(images)\n",
    "    # 取得預測標籤\n",
    "    _, predicted = torch.max(outputs, 1)\n",
    "\n",
    "    print(\"\\n--- 測試模型成效 ---\")\n",
    "    print(f\"批次影像數量: {images.size(0)}\")\n",
    "    print(\"顯示前 4 張測試影像，並比對真實標籤與模型預測：\")\n",
    "\n",
    "    # 顯示前 4 張圖片及其預測結果\n",
    "    fig = plt.figure(figsize=(10, 6))\n",
    "    for idx in range(4):\n",
    "        ax = fig.add_subplot(2, 2, idx + 1, xticks=[], yticks=[])\n",
    "        # 需先把圖片移回 CPU，再做反標準化\n",
    "        img = images[idx].cpu()\n",
    "        img = img / 2 + 0.5  # 反標準化\n",
    "        npimg = img.numpy()\n",
    "\n",
    "        plt.imshow(np.transpose(npimg, (1, 2, 0)), cmap='gray')\n",
    "        true_label = class_names[labels[idx]]\n",
    "        pred_label = class_names[predicted[idx]]\n",
    "\n",
    "        # 若預測正確顯示綠色標題，否則顯示紅色\n",
    "        color_setting = 'green' if predicted[idx] == labels[idx] else 'red'\n",
    "        ax.set_title(f'原圖: {true_label}\\n預測: {pred_label}',\n",
    "                     fontproperties=font, color=color_setting)\n",
    "\n",
    "    plt.show()\n",
    "\n",
    "\n",
    "visualize_model_predictions(model, test_loader, class_names, device)\n"
   ]
  }
 ],
 "metadata": {
  "kernelspec": {
   "display_name": "depthMap_gen",
   "language": "python",
   "name": "python3"
  },
  "language_info": {
   "codemirror_mode": {
    "name": "ipython",
    "version": 3
   },
   "file_extension": ".py",
   "mimetype": "text/x-python",
   "name": "python",
   "nbconvert_exporter": "python",
   "pygments_lexer": "ipython3",
   "version": "3.9.21"
  }
 },
 "nbformat": 4,
 "nbformat_minor": 2
}
