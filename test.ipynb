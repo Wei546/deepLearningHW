{
 "cells": [
  {
   "cell_type": "code",
   "execution_count": 187,
   "metadata": {},
   "outputs": [
    {
     "name": "stdout",
     "output_type": "stream",
     "text": [
      "   label  1x1  1x2  1x3  1x4  1x5  1x6  1x7  1x8  1x9  ...  28x19  28x20  \\\n",
      "0      7    0    0    0    0    0    0    0    0    0  ...      0      0   \n",
      "1      2    0    0    0    0    0    0    0    0    0  ...      0      0   \n",
      "2      1    0    0    0    0    0    0    0    0    0  ...      0      0   \n",
      "3      0    0    0    0    0    0    0    0    0    0  ...      0      0   \n",
      "4      4    0    0    0    0    0    0    0    0    0  ...      0      0   \n",
      "\n",
      "   28x21  28x22  28x23  28x24  28x25  28x26  28x27  28x28  \n",
      "0      0      0      0      0      0      0      0      0  \n",
      "1      0      0      0      0      0      0      0      0  \n",
      "2      0      0      0      0      0      0      0      0  \n",
      "3      0      0      0      0      0      0      0      0  \n",
      "4      0      0      0      0      0      0      0      0  \n",
      "\n",
      "[5 rows x 785 columns]\n"
     ]
    }
   ],
   "source": [
    "# 用於讀取資料\n",
    "import pandas as pd\n",
    "\n",
    "# 讀取CSV文件\n",
    "data = pd.read_csv('mnist_test.csv')\n",
    "print(data.head())\n"
   ]
  },
  {
   "cell_type": "code",
   "execution_count": 188,
   "metadata": {},
   "outputs": [],
   "source": [
    "# labels代表csv檔第一欄資料(數字)\n",
    "labels = data.iloc[:, 0]\n",
    "# pixels代表csv檔第二欄以後的資料(RGB值)\n",
    "pixels = data.iloc[:, 1:]\n"
   ]
  },
  {
   "cell_type": "code",
   "execution_count": 189,
   "metadata": {},
   "outputs": [],
   "source": [
    "# 用於轉換成numpy array\n",
    "import numpy as np\n",
    "\n",
    "# 將pixels轉換為numpy array\n",
    "images = pixels.to_numpy()\n",
    "# 轉換成28*28的圖片，-1代表自動計算矩陣維度\n",
    "images = images.reshape(-1, 28, 28)\n"
   ]
  },
  {
   "cell_type": "code",
   "execution_count": 190,
   "metadata": {},
   "outputs": [
    {
     "data": {
      "image/png": "[encoded data removed]",
      "text/plain": [
       "<Figure size 640x480 with 1 Axes>"
      ]
     },
     "metadata": {},
     "output_type": "display_data"
    }
   ],
   "source": [
    "# 用於圖片視覺化\n",
    "import matplotlib.pyplot as plt\n",
    "\n",
    "# 檢查圖片是否圖取成功\n",
    "plt.imshow(images[1], cmap='gray')\n",
    "plt.title(f'Label: {labels.iloc[1]}')\n",
    "plt.show()\n"
   ]
  },
  {
   "cell_type": "code",
   "execution_count": 191,
   "metadata": {},
   "outputs": [],
   "source": [
    "# 將圖片正規化\n",
    "images = images / 255.0\n"
   ]
  },
  {
   "cell_type": "code",
   "execution_count": 192,
   "metadata": {},
   "outputs": [
    {
     "name": "stdout",
     "output_type": "stream",
     "text": [
      "Epoch [1/20], Loss: 0.5304\n",
      "Epoch [2/20], Loss: 0.2047\n",
      "Epoch [3/20], Loss: 0.1268\n",
      "Epoch [4/20], Loss: 0.1010\n",
      "Epoch [5/20], Loss: 0.0857\n",
      "Epoch [6/20], Loss: 0.0608\n",
      "Epoch [7/20], Loss: 0.0502\n",
      "Epoch [8/20], Loss: 0.0409\n",
      "Epoch [9/20], Loss: 0.0705\n",
      "Epoch [10/20], Loss: 0.0387\n",
      "Epoch [11/20], Loss: 0.0128\n",
      "Epoch [12/20], Loss: 0.0040\n",
      "Epoch [13/20], Loss: 0.0019\n",
      "Epoch [14/20], Loss: 0.0009\n",
      "Epoch [15/20], Loss: 0.0005\n",
      "Epoch [16/20], Loss: 0.0003\n",
      "Epoch [17/20], Loss: 0.0002\n",
      "Epoch [18/20], Loss: 0.0001\n",
      "Epoch [19/20], Loss: 0.0000\n",
      "Epoch [20/20], Loss: 0.0000\n",
      "Test Loss: 0.2568, Accuracy: 96.80%\n"
     ]
    }
   ],
   "source": [
    "import pandas as pd\n",
    "import numpy as np\n",
    "import matplotlib.pyplot as plt\n",
    "import torch.nn.functional as F\n",
    "import torch\n",
    "import torch.nn as nn\n",
    "import torch.optim as optim\n",
    "import torch.utils.data as data_utils\n",
    "from sklearn.model_selection import train_test_split\n",
    "\n",
    "# 將images轉換成tensor\n",
    "tensor_x = torch.tensor(images, dtype=torch.float32)\n",
    "# 添加通道維度\n",
    "tensor_x = tensor_x.unsqueeze(1) \n",
    "# 將labels轉換成tensor\n",
    "tensor_y = torch.tensor(labels.values, dtype=torch.long)\n",
    "# 轉換成訓練集和測試集\n",
    "X_train, X_test, y_train, y_test = train_test_split(\n",
    "    tensor_x, tensor_y, test_size=0.2, random_state=120\n",
    ")\n",
    "# 將訓練集和測試集轉換成tensor dataset\n",
    "train_dataset = data_utils.TensorDataset(X_train, y_train)\n",
    "test_dataset = data_utils.TensorDataset(X_test, y_test)\n",
    "# 將dataset轉換成data loader\n",
    "train_loader = data_utils.DataLoader(train_dataset, batch_size=16, shuffle=True)\n",
    "test_loader = data_utils.DataLoader(test_dataset, batch_size=16, shuffle=False)\n",
    "\n",
    "\n",
    "# 自定義DNN模型\n",
    "class DNNNet(nn.Module):\n",
    "    # 模型建構子\n",
    "    def __init__(self):\n",
    "        # 繼承父類別，DNN模型的介面\n",
    "        super(DNNNet, self).__init__()\n",
    "        # 第一層隱藏層\n",
    "        self.fc1 = nn.Linear(28 * 28, 1024)\n",
    "        # 第二層隱藏層\n",
    "        self.fc2 = nn.Linear(1024, 512)\n",
    "        # 第三層隱藏層\n",
    "        self.fc3 = nn.Linear(512, 256)\n",
    "        # 第四層隱藏層\n",
    "        self.fc4 = nn.Linear(256, 128)\n",
    "        # 輸出層\n",
    "        self.fc5 = nn.Linear(128, 10) \n",
    "    # 前向傳遞\n",
    "    def forward(self, x):\n",
    "        # 將圖片轉換成28*28的矩陣\n",
    "        x = x.view(-1, 28 * 28)\n",
    "        # 激活函數\n",
    "        x = F.relu(self.fc1(x))\n",
    "        \n",
    "        x = F.relu(self.fc2(x))\n",
    "        x = F.relu(self.fc3(x))\n",
    "        x = F.relu(self.fc4(x))\n",
    "        x = self.fc5(x)\n",
    "        return x\n",
    "\n",
    "# 實例化模型\n",
    "model = DNNNet()\n",
    "# 定義損失函數\n",
    "criterion = nn.CrossEntropyLoss()\n",
    "# 定義優化器\n",
    "optimizer = optim.Adam(model.parameters(), lr=0.001)\n",
    "# 定義學習率調整器\n",
    "scheduler = optim.lr_scheduler.StepLR(optimizer, step_size=10, gamma=0.1)\n",
    "# 定義訓練輪次\n",
    "num_epochs = 20\n",
    "# 訓練模型\n",
    "for epoch in range(num_epochs):\n",
    "    # 訓練模式\n",
    "    model.train()  \n",
    "    # 計算損失\n",
    "    running_loss = 0.0\n",
    "    # 訓練資料\n",
    "    for i, (inputs, labels) in enumerate(train_loader):\n",
    "        # 梯度歸零\n",
    "        optimizer.zero_grad()\n",
    "        # 前向傳遞\n",
    "        outputs = model(inputs)\n",
    "        # 計算損失\n",
    "        loss = criterion(outputs, labels)\n",
    "        # 反向傳遞\n",
    "        loss.backward()\n",
    "        # 更新參數\n",
    "        optimizer.step()\n",
    "        # 累加損失\n",
    "        running_loss += loss.item()\n",
    "    # 更新學習率\n",
    "    scheduler.step()\n",
    "    # 計算平均損失\n",
    "    avg_loss = running_loss / len(train_loader)\n",
    "    print(f'Epoch [{epoch+1}/{num_epochs}], Loss: {avg_loss:.4f}')\n",
    "\n",
    "# 評估模型\n",
    "model.eval() \n",
    "# 計算正確率\n",
    "correct = 0\n",
    "# 計算總數\n",
    "total = 0\n",
    "# 計算損失\n",
    "test_loss = 0.0\n",
    "# 不計算梯度\n",
    "with torch.no_grad():\n",
    "    # 測試資料\n",
    "    for inputs, labels in test_loader:\n",
    "        # 前向傳遞\n",
    "        outputs = model(inputs)\n",
    "        # 計算損失\n",
    "        loss = criterion(outputs, labels)\n",
    "        # 累加損失\n",
    "        test_loss += loss.item()\n",
    "        # 計算正確率\n",
    "\n",
    "\n",
    "        _, predicted = torch.max(outputs.data, 1)\n",
    "        \n",
    "        total += labels.size(0)\n",
    "        correct += (predicted == labels).sum().item()\n",
    "# 計算平均損失\n",
    "avg_test_loss = test_loss / len(test_loader)\n",
    "# 計算正確率\n",
    "accuracy = 100 * correct / total\n",
    "print(f'Test Loss: {avg_test_loss:.4f}, Accuracy: {accuracy:.2f}%')\n"
   ]
  },
  {
   "cell_type": "code",
   "execution_count": null,
   "metadata": {},
   "outputs": [],
   "source": []
  },
  {
   "cell_type": "markdown",
   "metadata": {},
   "source": []
  }
 ],
 "metadata": {
  "kernelspec": {
   "display_name": "web_env",
   "language": "python",
   "name": "python3"
  },
  "language_info": {
   "codemirror_mode": {
    "name": "ipython",
    "version": 3
   },
   "file_extension": ".py",
   "mimetype": "text/x-python",
   "name": "python",
   "nbconvert_exporter": "python",
   "pygments_lexer": "ipython3",
   "version": "3.10.15"
  }
 },
 "nbformat": 4,
 "nbformat_minor": 2
}
